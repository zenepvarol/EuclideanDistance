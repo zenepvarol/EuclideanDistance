{
 "cells": [
  {
   "cell_type": "code",
   "execution_count": 4,
   "id": "09eb4f7b-d97b-41ac-84d0-956379d8a9b3",
   "metadata": {},
   "outputs": [],
   "source": [
    "import math\n",
    "\n",
    "# Noktaların Tanımlanması\n",
    "points = [(11, 112), (20, 130), (5, 100)]"
   ]
  },
  {
   "cell_type": "code",
   "execution_count": 5,
   "id": "65cc8994-3008-44c7-94c0-8a938f5a7f79",
   "metadata": {},
   "outputs": [],
   "source": [
    "# Öklid Mesafesi İçin Fonksiyon\n",
    "def euclideanDistance(point1, point2):\n",
    "    return math.sqrt((point2[0] - point1[0]) ** 2 + (point2[1] - point1[1]) ** 2)"
   ]
  },
  {
   "cell_type": "code",
   "execution_count": 6,
   "id": "59f84463-3b82-4e54-abcc-99720834e78e",
   "metadata": {},
   "outputs": [],
   "source": [
    "# Mesafelerin Hesaplanması\n",
    "distances = []\n",
    "for i in range(len(points)):\n",
    "    for j in range(i + 1, len(points)):\n",
    "        distance = euclideanDistance(points[i], points[j])\n",
    "        distances.append(distance)"
   ]
  },
  {
   "cell_type": "code",
   "execution_count": 7,
   "id": "7d7d1365-b0e3-4f79-a945-b08eda7685d8",
   "metadata": {},
   "outputs": [
    {
     "name": "stdout",
     "output_type": "stream",
     "text": [
      "Minimum Mesafe: 13.416407864998739\n"
     ]
    }
   ],
   "source": [
    "# Minimum Mesafenin Bulunması\n",
    "min_distance = min(distances)\n",
    "print(\"Minimum Mesafe:\", min_distance)"
   ]
  },
  {
   "cell_type": "code",
   "execution_count": null,
   "id": "73eea253-855f-4b7e-a381-cb022dfa6d82",
   "metadata": {},
   "outputs": [],
   "source": []
  }
 ],
 "metadata": {
  "kernelspec": {
   "display_name": "Python 3 (ipykernel)",
   "language": "python",
   "name": "python3"
  },
  "language_info": {
   "codemirror_mode": {
    "name": "ipython",
    "version": 3
   },
   "file_extension": ".py",
   "mimetype": "text/x-python",
   "name": "python",
   "nbconvert_exporter": "python",
   "pygments_lexer": "ipython3",
   "version": "3.12.6"
  }
 },
 "nbformat": 4,
 "nbformat_minor": 5
}
